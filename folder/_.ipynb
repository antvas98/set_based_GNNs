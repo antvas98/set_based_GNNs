{
 "cells": [
  {
   "cell_type": "code",
   "execution_count": 33,
   "metadata": {},
   "outputs": [],
   "source": [
    "from input_datasets import input\n",
    "from transform_datasets import *\n",
    "# from GNN_architectures import one_aggregator_Net, two_aggregators_Net, tuple_Net"
   ]
  },
  {
   "cell_type": "code",
   "execution_count": 35,
   "metadata": {},
   "outputs": [
    {
     "name": "stderr",
     "output_type": "stream",
     "text": [
      "100%|██████████| 188/188 [00:13<00:00, 14.29it/s]\n"
     ]
    }
   ],
   "source": [
    "dataset = input('MUTAG')\n",
    "# DATA=set_2_3_local_transformer(dataset,k=2, variant='local')\n",
    "data=multiset_2_3_delta_transformer(dataset, k=2)"
   ]
  },
  {
   "cell_type": "code",
   "execution_count": 4,
   "metadata": {},
   "outputs": [
    {
     "data": {
      "text/plain": [
       "tensor([-17.0578], grad_fn=<SqueezeBackward1>)"
      ]
     },
     "execution_count": 4,
     "metadata": {},
     "output_type": "execute_result"
    }
   ],
   "source": [
    "model2 = two_aggregators_Net(input_channels=data[0].x.shape[1], hidden_units=16)\n",
    "model2(data[0])"
   ]
  },
  {
   "cell_type": "code",
   "execution_count": 54,
   "metadata": {},
   "outputs": [],
   "source": [
    "import argparse\n",
    "parser = argparse.ArgumentParser()\n",
    "parser.add_argument('--dataset_name', type=str, default=32\n",
    "                    help='input the name of the dataset (e.g MUTAG,PTC_FM, PTC_MR)')\n",
    "parser.add_argument('--hidden_units', type=int, default=32,\n",
    "                    help='number of hidden units for each layer')\n",
    "\n",
    "# parser = argparse.ArgumentParser()\n",
    "# parser.add_argument('--dataset', type=str, default='MUTAG')\n",
    "# parser.add_argument('--batch_size', type=int, default=128)\n",
    "# parser.add_argument('--hidden_channels', type=int, default=32)\n",
    "# parser.add_argument('--num_layers', type=int, default=5)\n",
    "# parser.add_argument('--lr', type=float, default=0.01)\n",
    "# parser.add_argument('--epochs', type=int, default=100)\n",
    "# parser.add_argument('--wandb', action='store_true', help='Track experiment')\n",
    "args, unknown = parser.parse_known_args() "
   ]
  },
  {
   "cell_type": "code",
   "execution_count": 55,
   "metadata": {},
   "outputs": [
    {
     "data": {
      "text/plain": [
       "Namespace(dataset_name=None, hidden_units=32)"
      ]
     },
     "execution_count": 55,
     "metadata": {},
     "output_type": "execute_result"
    }
   ],
   "source": [
    "args"
   ]
  }
 ],
 "metadata": {
  "kernelspec": {
   "display_name": "gnnsenv",
   "language": "python",
   "name": "python3"
  },
  "language_info": {
   "codemirror_mode": {
    "name": "ipython",
    "version": 3
   },
   "file_extension": ".py",
   "mimetype": "text/x-python",
   "name": "python",
   "nbconvert_exporter": "python",
   "pygments_lexer": "ipython3",
   "version": "3.11.0"
  },
  "orig_nbformat": 4
 },
 "nbformat": 4,
 "nbformat_minor": 2
}
